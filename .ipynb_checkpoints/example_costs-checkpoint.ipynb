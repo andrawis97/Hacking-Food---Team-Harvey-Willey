{
 "cells": [
  {
   "cell_type": "markdown",
   "metadata": {},
   "source": [
    "## Preface\n",
    "\n"
   ]
  },
  {
   "cell_type": "markdown",
   "metadata": {},
   "source": [
    "First, load relevant dataset:\n",
    "\n"
   ]
  },
  {
   "cell_type": "code",
   "execution_count": 18,
   "metadata": {},
   "outputs": [
    {
     "name": "stdout",
     "output_type": "stream",
     "text": [
      "Requirement already satisfied: CFEDemands in /srv/app/venv/lib/python3.6/site-packages\r\n"
     ]
    }
   ],
   "source": [
    "!pip install CFEDemands\n",
    "import cfe\n",
    "import numpy as np\n",
    "import pandas as pd\n",
    "import matplotlib.pyplot as plt\n",
    "\n",
    "USE = \"Tanzania\"\n",
    "\n",
    "# Results can be made persistent by saving them, and then re-loading...\n",
    "if USE==\"Tanzania\":\n",
    "    DIR = \"./TanzanianNPS/\"\n",
    "    r = cfe.from_dataset(DIR+'tanzanian_nps.ds')\n",
    "    USE_GOOD = 'Ripe Bananas'\n",
    "else:\n",
    "    raise ValueError(\"No such value of USE\")\n",
    "\n",
    "fct = pd.read_pickle(DIR+'fct.df') #food conversion table\n",
    "rda = pd.read_pickle(DIR+\"rda.df\")  \n",
    "\n",
    "# Use prices, distribution of budgets from first round, first market:\n",
    "t = r.firstround  # First round  \n",
    "m = r.coords['m'][0] # First market\n",
    "\n",
    "# Distribution of predicted total expenditures\n",
    "xhat = r.get_predicted_expenditures().sum('i')   #total amount of resources given resources they have...\n",
    "xhat = xhat.where(xhat>0,np.nan)\n",
    "\n",
    "# Note selection of prices for first period and first market\n",
    "p = r.prices.sel(t=t,m=m).fillna(1).copy()\n",
    "\n",
    "def my_prices(p0,p=p,i=USE_GOOD):   #allows us to change the price one at a time\n",
    "    p = p.copy()\n",
    "    p.loc[i] = p0\n",
    "    return p\n",
    "\n",
    "# Now fix up FCT\n",
    "\n",
    "# Change some labels in fct\n",
    "d={'protein g':'Protein',\n",
    "   'energy kcal':'Calories',\n",
    "   'ca mg':'Calcium',\n",
    "   'fe mg':'Iron',\n",
    "   'zn mg': 'Zinc',\n",
    "   'mg mg': 'Magnesium',\n",
    "   'vit a ug':'Vitamin A',\n",
    "  'vit e ug':'Vitamin E',\n",
    "  'vit c mg':\"Vitamin C\",\n",
    "  'vit b6 mg':'Vitamin B6',\n",
    "   'vit b12 ug':'Vitamin B12'}\n",
    "\n",
    "fct = fct.rename(columns=d) #[list(d.values())]\n",
    "\n",
    "# Fix capitalization (to match food labels)\n",
    "fct.index = fct.reset_index()['Item name'].str.title()\n",
    "\n",
    "# Replace missing with zeros\n",
    "fct = fct.fillna(0)\n",
    "\n",
    "try:\n",
    "    fct.index = fct.index.droplevel('unit')\n",
    "except AttributeError: pass # No units?\n",
    "\n",
    "def nutrient_demand(x,p,z=None):\n",
    "    c = r.demands(x,p,z=z)  #vector of demands \n",
    "    fct0,c0 = fct.align(c,axis=0,join='inner')\n",
    "    N = fct0.T@c0  #food conversion table and the vector of quantity demanded for a given x,p. \n",
    "\n",
    "    return N\n",
    "\n",
    "# In first round, averaged over households and villages\n",
    "zbar = r.z.sel(t=r.firstround).mean(['j','m'])[:-1] # Leave out log HSize    #zbar is avg characteristics of households. \n",
    "#for presentation it can be interesting to play with this or change this.\n",
    "\n",
    "# This matrix product gives minimum nutrient requirements for average\n",
    "# household in first round\n",
    "hh_rda = rda.replace('',0).T@zbar  #rda is recommended daily allowance \n",
    "\n",
    "def nutrient_adequacy_ratio(x,p):\n",
    "    return nutrient_demand(x,p)/hh_rda   "
   ]
  },
  {
   "cell_type": "markdown",
   "metadata": {},
   "source": [
    "## Simple Policy Experiments\n",
    "\n"
   ]
  },
  {
   "cell_type": "markdown",
   "metadata": {},
   "source": [
    "Consider two policies:  First, changing income so that some proportion\n",
    "of the population achieves nutritional adequacy.  Here choose quantile\n",
    "we&rsquo;re interested in (e.g., a quantile of 0.5 is the median; a quantile\n",
    "of 0.25 is the household at the 25th percentage point of the distribution).\n",
    "\n"
   ]
  },
  {
   "cell_type": "code",
   "execution_count": 19,
   "metadata": {},
   "outputs": [],
   "source": [
    "# A quantile of 0.5 is the median.  Play with quantile value, or just assign.\n",
    "x0 = xhat.sel(t=t,m=m).quantile(0.01,'j') # Budget (median household)\n",
    "x0 = 100      #code will figure out budget of the household with lowest 1% income"
   ]
  },
  {
   "cell_type": "code",
   "execution_count": 20,
   "metadata": {},
   "outputs": [
    {
     "name": "stderr",
     "output_type": "stream",
     "text": [
      "/srv/app/venv/lib/python3.6/site-packages/cfe/root_with_precision.py:85: UserWarning: Tolerance is set to 1.00E-12.  Change in value is -4.00E+00.  Iterations are 1001.  Perhaps tolerance is too high?\n",
      "  warn(\"Tolerance is set to %.2E.  Change in value is %.2E.  Iterations are %d.  Perhaps tolerance is too high?\" % (tol,x[0]-x[-1],i))\n",
      "/srv/app/venv/lib/python3.6/site-packages/cfe/root_with_precision.py:85: UserWarning: Tolerance is set to 1.00E-12.  Change in value is -5.82E-11.  Iterations are 1001.  Perhaps tolerance is too high?\n",
      "  warn(\"Tolerance is set to %.2E.  Change in value is %.2E.  Iterations are %d.  Perhaps tolerance is too high?\" % (tol,x[0]-x[-1],i))\n"
     ]
    },
    {
     "data": {
      "text/plain": [
       "<matplotlib.lines.Line2D at 0x7f36965f2ac8>"
      ]
     },
     "execution_count": 20,
     "metadata": {},
     "output_type": "execute_result"
    },
    {
     "data": {
      "image/png": "[encoded data removed]",
      "text/plain": [
       "<Figure size 432x288 with 1 Axes>"
      ]
     },
     "metadata": {
      "needs_background": "light"
     },
     "output_type": "display_data"
    }
   ],
   "source": [
    "import matplotlib.pyplot as plt\n",
    "import numpy as np\n",
    "\n",
    "X = np.linspace(x0/10,x0*5,50)\n",
    "\n",
    "UseNutrients = ['Protein','Calories','Iron','Calcium']\n",
    "plt.plot(X,pd.concat({x:np.log(nutrient_adequacy_ratio(x,p))[UseNutrients] for x in X},axis=1).T)\n",
    "plt.legend(UseNutrients)\n",
    "plt.xlabel('Budget')\n",
    "plt.ylabel('log nutrient adequacy ratio')\n",
    "plt.axhline(0)\n",
    "plt.axvline(x0)\n",
    "\n",
    "#assumption is that if we increase x, the curves does not change --> which means that we need to make sure prices do not change as budget changes.\n",
    "\n",
    "#assume supply is perfectly elastic - competition needed.\n",
    "\n",
    "\n",
    "\n",
    "\n",
    "#if a household has 100 budget, and we want a policy for them to have nutritional adequacy, the recommended policy is income transfer "
   ]
  },
  {
   "cell_type": "markdown",
   "metadata": {},
   "source": [
    "As before, we can also vary relative prices.  Here we trace out\n",
    "nutritional adequacy varying the price of a single good:\n",
    "\n"
   ]
  },
  {
   "cell_type": "code",
   "execution_count": 21,
   "metadata": {},
   "outputs": [
    {
     "name": "stderr",
     "output_type": "stream",
     "text": [
      "/srv/app/venv/lib/python3.6/site-packages/cfe/root_with_precision.py:85: UserWarning: Tolerance is set to 1.00E-12.  Change in value is -1.91E-06.  Iterations are 1001.  Perhaps tolerance is too high?\n",
      "  warn(\"Tolerance is set to %.2E.  Change in value is %.2E.  Iterations are %d.  Perhaps tolerance is too high?\" % (tol,x[0]-x[-1],i))\n"
     ]
    },
    {
     "data": {
      "text/plain": [
       "<matplotlib.lines.Line2D at 0x7f369654d240>"
      ]
     },
     "execution_count": 21,
     "metadata": {},
     "output_type": "execute_result"
    },
    {
     "data": {
      "image/png": "[encoded data removed]",
      "text/plain": [
       "<Figure size 432x288 with 1 Axes>"
      ]
     },
     "metadata": {
      "needs_background": "light"
     },
     "output_type": "display_data"
    }
   ],
   "source": [
    "poorer_x = x0\n",
    "\n",
    "# Choose reference (t,m) for reference good\n",
    "ref_price = r.prices.sel(i=USE_GOOD,t=t,m=m)\n",
    "P = np.linspace(ref_price/10,ref_price*5,50)\n",
    "\n",
    "plt.plot(pd.concat({p0:np.log(nutrient_adequacy_ratio(poorer_x,my_prices(p0,i=USE_GOOD)))[UseNutrients] for p0 in P},axis=1).T,P)\n",
    "plt.legend(UseNutrients)\n",
    "plt.ylabel('Price')\n",
    "plt.xlabel('log nutrient adequacy ratio')\n",
    "plt.axvline(0)\n",
    "plt.axhline(p.sel(i=USE_GOOD).values)"
   ]
  },
  {
   "cell_type": "code",
   "execution_count": 22,
   "metadata": {},
   "outputs": [
    {
     "data": {
      "text/plain": [
       "<matplotlib.lines.Line2D at 0x7f36965ad1d0>"
      ]
     },
     "execution_count": 22,
     "metadata": {},
     "output_type": "execute_result"
    },
    {
     "data": {
      "image/png": "[encoded data removed]",
      "text/plain": [
       "<Figure size 432x288 with 1 Axes>"
      ]
     },
     "metadata": {
      "needs_background": "light"
     },
     "output_type": "display_data"
    }
   ],
   "source": [
    "plt.plot([r.demands(poorer_x,my_prices(p0,i=USE_GOOD))[USE_GOOD] for p0 in P],P)\n",
    "plt.ylabel('Price')\n",
    "plt.xlabel(USE_GOOD)\n",
    "plt.axhline(p.sel(i=USE_GOOD).values)"
   ]
  },
  {
   "cell_type": "markdown",
   "metadata": {},
   "source": [
    "## Compensated Policy Experiments\n",
    "\n"
   ]
  },
  {
   "cell_type": "code",
   "execution_count": 23,
   "metadata": {},
   "outputs": [
    {
     "name": "stderr",
     "output_type": "stream",
     "text": [
      "/srv/app/venv/lib/python3.6/site-packages/cfe/root_with_precision.py:85: UserWarning: Tolerance is set to 1.00E-12.  Change in value is -1.91E-06.  Iterations are 1001.  Perhaps tolerance is too high?\n",
      "  warn(\"Tolerance is set to %.2E.  Change in value is %.2E.  Iterations are %d.  Perhaps tolerance is too high?\" % (tol,x[0]-x[-1],i))\n"
     ]
    },
    {
     "data": {
      "text/plain": [
       "<matplotlib.legend.Legend at 0x7f3698108048>"
      ]
     },
     "execution_count": 23,
     "metadata": {},
     "output_type": "execute_result"
    },
    {
     "data": {
      "image/png": "[encoded data removed]",
      "text/plain": [
       "<Figure size 432x288 with 1 Axes>"
      ]
     },
     "metadata": {
      "needs_background": "light"
     },
     "output_type": "display_data"
    }
   ],
   "source": [
    "U0 = cfe.demands.marshallian.indirect_utility(x0,p,np.exp(r.alpha),r.beta,0)\n",
    "\n",
    "plt.plot([r.demands(poorer_x,my_prices(p0,i=USE_GOOD))[USE_GOOD] for p0 in P],P)\n",
    "plt.plot([r.demands(poorer_x,my_prices(p0,i=USE_GOOD),type=\"Hicksian\")[USE_GOOD] for p0 in P],P)\n",
    "plt.ylabel('Price')\n",
    "plt.xlabel(USE_GOOD)\n",
    "#plt.axhline(p.sel(i=USE_GOOD).values)\n",
    "plt.legend((\"Marshallian\",\"Hicksian\"))"
   ]
  },
  {
   "cell_type": "code",
   "execution_count": 24,
   "metadata": {},
   "outputs": [
    {
     "name": "stderr",
     "output_type": "stream",
     "text": [
      "/srv/app/venv/lib/python3.6/site-packages/cfe/root_with_precision.py:85: UserWarning: Tolerance is set to 1.00E-12.  Change in value is -1.91E-06.  Iterations are 1001.  Perhaps tolerance is too high?\n",
      "  warn(\"Tolerance is set to %.2E.  Change in value is %.2E.  Iterations are %d.  Perhaps tolerance is too high?\" % (tol,x[0]-x[-1],i))\n"
     ]
    },
    {
     "data": {
      "text/plain": [
       "-2.1316282072803006e-13"
      ]
     },
     "execution_count": 24,
     "metadata": {},
     "output_type": "execute_result"
    }
   ],
   "source": [
    "def compensating_variation(U0,p0,p1):\n",
    "    x0 = cfe.demands.hicksian.expenditurefunction(U0,p0,np.exp(r.alpha),r.beta,0)\n",
    "    x1 =  cfe.demands.hicksian.expenditurefunction(U0,p1,np.exp(r.alpha),r.beta,0)\n",
    "\n",
    "    return x1-x0\n",
    "\n",
    "compensating_variation(U0,p,my_prices(.5))\n",
    "\n",
    "\n",
    "#CV is how much money we need if there is a price change to get the original utility function\n",
    "#consumers getting compensation for welfare consequences\n",
    "\n",
    "#CV = p_tilde'h(U_knot,p_tilde)-p'h(U_knot,p) \n",
    "#CV =x1-x0\n",
    "\n",
    "\n",
    "#ways to characterize cost\n",
    "#a set of changes in price. \n",
    "#some houses will be made better off."
   ]
  },
  {
   "cell_type": "code",
   "execution_count": 28,
   "metadata": {},
   "outputs": [
    {
     "data": {
      "text/html": [
       "<div>\n",
       "<style scoped>\n",
       "    .dataframe tbody tr th:only-of-type {\n",
       "        vertical-align: middle;\n",
       "    }\n",
       "\n",
       "    .dataframe tbody tr th {\n",
       "        vertical-align: top;\n",
       "    }\n",
       "\n",
       "    .dataframe thead th {\n",
       "        text-align: right;\n",
       "    }\n",
       "</style>\n",
       "<table border=\"1\" class=\"dataframe\">\n",
       "  <thead>\n",
       "    <tr style=\"text-align: right;\">\n",
       "      <th></th>\n",
       "      <th></th>\n",
       "      <th></th>\n",
       "      <th></th>\n",
       "      <th>z</th>\n",
       "    </tr>\n",
       "    <tr>\n",
       "      <th>k</th>\n",
       "      <th>j</th>\n",
       "      <th>t</th>\n",
       "      <th>m</th>\n",
       "      <th></th>\n",
       "    </tr>\n",
       "  </thead>\n",
       "  <tbody>\n",
       "    <tr>\n",
       "      <th rowspan=\"30\" valign=\"top\">C 0-2</th>\n",
       "      <th rowspan=\"4\" valign=\"top\">0001-001</th>\n",
       "      <th>2008</th>\n",
       "      <th>1</th>\n",
       "      <td>NaN</td>\n",
       "    </tr>\n",
       "    <tr>\n",
       "      <th>2010</th>\n",
       "      <th>1</th>\n",
       "      <td>NaN</td>\n",
       "    </tr>\n",
       "    <tr>\n",
       "      <th>2012</th>\n",
       "      <th>1</th>\n",
       "      <td>0.000000</td>\n",
       "    </tr>\n",
       "    <tr>\n",
       "      <th>2014</th>\n",
       "      <th>1</th>\n",
       "      <td>NaN</td>\n",
       "    </tr>\n",
       "    <tr>\n",
       "      <th rowspan=\"4\" valign=\"top\">0002-001</th>\n",
       "      <th>2008</th>\n",
       "      <th>1</th>\n",
       "      <td>NaN</td>\n",
       "    </tr>\n",
       "    <tr>\n",
       "      <th>2010</th>\n",
       "      <th>1</th>\n",
       "      <td>NaN</td>\n",
       "    </tr>\n",
       "    <tr>\n",
       "      <th>2012</th>\n",
       "      <th>1</th>\n",
       "      <td>0.000000</td>\n",
       "    </tr>\n",
       "    <tr>\n",
       "      <th>2014</th>\n",
       "      <th>1</th>\n",
       "      <td>NaN</td>\n",
       "    </tr>\n",
       "    <tr>\n",
       "      <th rowspan=\"4\" valign=\"top\">0003-001</th>\n",
       "      <th>2008</th>\n",
       "      <th>1</th>\n",
       "      <td>NaN</td>\n",
       "    </tr>\n",
       "    <tr>\n",
       "      <th>2010</th>\n",
       "      <th>1</th>\n",
       "      <td>NaN</td>\n",
       "    </tr>\n",
       "    <tr>\n",
       "      <th>2012</th>\n",
       "      <th>1</th>\n",
       "      <td>0.000000</td>\n",
       "    </tr>\n",
       "    <tr>\n",
       "      <th>2014</th>\n",
       "      <th>1</th>\n",
       "      <td>NaN</td>\n",
       "    </tr>\n",
       "    <tr>\n",
       "      <th rowspan=\"4\" valign=\"top\">0003-010</th>\n",
       "      <th>2008</th>\n",
       "      <th>1</th>\n",
       "      <td>NaN</td>\n",
       "    </tr>\n",
       "    <tr>\n",
       "      <th>2010</th>\n",
       "      <th>1</th>\n",
       "      <td>NaN</td>\n",
       "    </tr>\n",
       "    <tr>\n",
       "      <th>2012</th>\n",
       "      <th>1</th>\n",
       "      <td>0.000000</td>\n",
       "    </tr>\n",
       "    <tr>\n",
       "      <th>2014</th>\n",
       "      <th>1</th>\n",
       "      <td>NaN</td>\n",
       "    </tr>\n",
       "    <tr>\n",
       "      <th rowspan=\"4\" valign=\"top\">0005-001</th>\n",
       "      <th>2008</th>\n",
       "      <th>1</th>\n",
       "      <td>NaN</td>\n",
       "    </tr>\n",
       "    <tr>\n",
       "      <th>2010</th>\n",
       "      <th>1</th>\n",
       "      <td>NaN</td>\n",
       "    </tr>\n",
       "    <tr>\n",
       "      <th>2012</th>\n",
       "      <th>1</th>\n",
       "      <td>0.000000</td>\n",
       "    </tr>\n",
       "    <tr>\n",
       "      <th>2014</th>\n",
       "      <th>1</th>\n",
       "      <td>NaN</td>\n",
       "    </tr>\n",
       "    <tr>\n",
       "      <th rowspan=\"4\" valign=\"top\">0006-001</th>\n",
       "      <th>2008</th>\n",
       "      <th>1</th>\n",
       "      <td>NaN</td>\n",
       "    </tr>\n",
       "    <tr>\n",
       "      <th>2010</th>\n",
       "      <th>1</th>\n",
       "      <td>NaN</td>\n",
       "    </tr>\n",
       "    <tr>\n",
       "      <th>2012</th>\n",
       "      <th>1</th>\n",
       "      <td>0.000000</td>\n",
       "    </tr>\n",
       "    <tr>\n",
       "      <th>2014</th>\n",
       "      <th>1</th>\n",
       "      <td>NaN</td>\n",
       "    </tr>\n",
       "    <tr>\n",
       "      <th rowspan=\"4\" valign=\"top\">0007-001</th>\n",
       "      <th>2008</th>\n",
       "      <th>1</th>\n",
       "      <td>NaN</td>\n",
       "    </tr>\n",
       "    <tr>\n",
       "      <th>2010</th>\n",
       "      <th>1</th>\n",
       "      <td>NaN</td>\n",
       "    </tr>\n",
       "    <tr>\n",
       "      <th>2012</th>\n",
       "      <th>1</th>\n",
       "      <td>0.000000</td>\n",
       "    </tr>\n",
       "    <tr>\n",
       "      <th>2014</th>\n",
       "      <th>1</th>\n",
       "      <td>NaN</td>\n",
       "    </tr>\n",
       "    <tr>\n",
       "      <th rowspan=\"2\" valign=\"top\">0008-001</th>\n",
       "      <th>2008</th>\n",
       "      <th>1</th>\n",
       "      <td>NaN</td>\n",
       "    </tr>\n",
       "    <tr>\n",
       "      <th>2010</th>\n",
       "      <th>1</th>\n",
       "      <td>NaN</td>\n",
       "    </tr>\n",
       "    <tr>\n",
       "      <th>...</th>\n",
       "      <th>...</th>\n",
       "      <th>...</th>\n",
       "      <th>...</th>\n",
       "      <td>...</td>\n",
       "    </tr>\n",
       "    <tr>\n",
       "      <th rowspan=\"30\" valign=\"top\">log HSize</th>\n",
       "      <th rowspan=\"2\" valign=\"top\">905012325005802</th>\n",
       "      <th>2012</th>\n",
       "      <th>1</th>\n",
       "      <td>NaN</td>\n",
       "    </tr>\n",
       "    <tr>\n",
       "      <th>2014</th>\n",
       "      <th>1</th>\n",
       "      <td>NaN</td>\n",
       "    </tr>\n",
       "    <tr>\n",
       "      <th rowspan=\"4\" valign=\"top\">905012325005803</th>\n",
       "      <th>2008</th>\n",
       "      <th>1</th>\n",
       "      <td>NaN</td>\n",
       "    </tr>\n",
       "    <tr>\n",
       "      <th>2010</th>\n",
       "      <th>1</th>\n",
       "      <td>0.693147</td>\n",
       "    </tr>\n",
       "    <tr>\n",
       "      <th>2012</th>\n",
       "      <th>1</th>\n",
       "      <td>NaN</td>\n",
       "    </tr>\n",
       "    <tr>\n",
       "      <th>2014</th>\n",
       "      <th>1</th>\n",
       "      <td>NaN</td>\n",
       "    </tr>\n",
       "    <tr>\n",
       "      <th rowspan=\"4\" valign=\"top\">9050123250059</th>\n",
       "      <th>2008</th>\n",
       "      <th>1</th>\n",
       "      <td>1.098612</td>\n",
       "    </tr>\n",
       "    <tr>\n",
       "      <th>2010</th>\n",
       "      <th>1</th>\n",
       "      <td>NaN</td>\n",
       "    </tr>\n",
       "    <tr>\n",
       "      <th>2012</th>\n",
       "      <th>1</th>\n",
       "      <td>NaN</td>\n",
       "    </tr>\n",
       "    <tr>\n",
       "      <th>2014</th>\n",
       "      <th>1</th>\n",
       "      <td>NaN</td>\n",
       "    </tr>\n",
       "    <tr>\n",
       "      <th rowspan=\"4\" valign=\"top\">905012325005901</th>\n",
       "      <th>2008</th>\n",
       "      <th>1</th>\n",
       "      <td>NaN</td>\n",
       "    </tr>\n",
       "    <tr>\n",
       "      <th>2010</th>\n",
       "      <th>1</th>\n",
       "      <td>0.000000</td>\n",
       "    </tr>\n",
       "    <tr>\n",
       "      <th>2012</th>\n",
       "      <th>1</th>\n",
       "      <td>NaN</td>\n",
       "    </tr>\n",
       "    <tr>\n",
       "      <th>2014</th>\n",
       "      <th>1</th>\n",
       "      <td>NaN</td>\n",
       "    </tr>\n",
       "    <tr>\n",
       "      <th rowspan=\"4\" valign=\"top\">905012325005902</th>\n",
       "      <th>2008</th>\n",
       "      <th>1</th>\n",
       "      <td>NaN</td>\n",
       "    </tr>\n",
       "    <tr>\n",
       "      <th>2010</th>\n",
       "      <th>1</th>\n",
       "      <td>2.397895</td>\n",
       "    </tr>\n",
       "    <tr>\n",
       "      <th>2012</th>\n",
       "      <th>1</th>\n",
       "      <td>NaN</td>\n",
       "    </tr>\n",
       "    <tr>\n",
       "      <th>2014</th>\n",
       "      <th>1</th>\n",
       "      <td>NaN</td>\n",
       "    </tr>\n",
       "    <tr>\n",
       "      <th rowspan=\"4\" valign=\"top\">9050123250081</th>\n",
       "      <th>2008</th>\n",
       "      <th>1</th>\n",
       "      <td>1.098612</td>\n",
       "    </tr>\n",
       "    <tr>\n",
       "      <th>2010</th>\n",
       "      <th>1</th>\n",
       "      <td>NaN</td>\n",
       "    </tr>\n",
       "    <tr>\n",
       "      <th>2012</th>\n",
       "      <th>1</th>\n",
       "      <td>NaN</td>\n",
       "    </tr>\n",
       "    <tr>\n",
       "      <th>2014</th>\n",
       "      <th>1</th>\n",
       "      <td>NaN</td>\n",
       "    </tr>\n",
       "    <tr>\n",
       "      <th rowspan=\"4\" valign=\"top\">905012325008101</th>\n",
       "      <th>2008</th>\n",
       "      <th>1</th>\n",
       "      <td>NaN</td>\n",
       "    </tr>\n",
       "    <tr>\n",
       "      <th>2010</th>\n",
       "      <th>1</th>\n",
       "      <td>0.693147</td>\n",
       "    </tr>\n",
       "    <tr>\n",
       "      <th>2012</th>\n",
       "      <th>1</th>\n",
       "      <td>NaN</td>\n",
       "    </tr>\n",
       "    <tr>\n",
       "      <th>2014</th>\n",
       "      <th>1</th>\n",
       "      <td>NaN</td>\n",
       "    </tr>\n",
       "    <tr>\n",
       "      <th rowspan=\"4\" valign=\"top\">905012325008102</th>\n",
       "      <th>2008</th>\n",
       "      <th>1</th>\n",
       "      <td>NaN</td>\n",
       "    </tr>\n",
       "    <tr>\n",
       "      <th>2010</th>\n",
       "      <th>1</th>\n",
       "      <td>0.000000</td>\n",
       "    </tr>\n",
       "    <tr>\n",
       "      <th>2012</th>\n",
       "      <th>1</th>\n",
       "      <td>NaN</td>\n",
       "    </tr>\n",
       "    <tr>\n",
       "      <th>2014</th>\n",
       "      <th>1</th>\n",
       "      <td>NaN</td>\n",
       "    </tr>\n",
       "  </tbody>\n",
       "</table>\n",
       "<p>433984 rows × 1 columns</p>\n",
       "</div>"
      ],
      "text/plain": [
       "                                         z\n",
       "k         j               t    m          \n",
       "C 0-2     0001-001        2008 1       NaN\n",
       "                          2010 1       NaN\n",
       "                          2012 1  0.000000\n",
       "                          2014 1       NaN\n",
       "          0002-001        2008 1       NaN\n",
       "                          2010 1       NaN\n",
       "                          2012 1  0.000000\n",
       "                          2014 1       NaN\n",
       "          0003-001        2008 1       NaN\n",
       "                          2010 1       NaN\n",
       "                          2012 1  0.000000\n",
       "                          2014 1       NaN\n",
       "          0003-010        2008 1       NaN\n",
       "                          2010 1       NaN\n",
       "                          2012 1  0.000000\n",
       "                          2014 1       NaN\n",
       "          0005-001        2008 1       NaN\n",
       "                          2010 1       NaN\n",
       "                          2012 1  0.000000\n",
       "                          2014 1       NaN\n",
       "          0006-001        2008 1       NaN\n",
       "                          2010 1       NaN\n",
       "                          2012 1  0.000000\n",
       "                          2014 1       NaN\n",
       "          0007-001        2008 1       NaN\n",
       "                          2010 1       NaN\n",
       "                          2012 1  0.000000\n",
       "                          2014 1       NaN\n",
       "          0008-001        2008 1       NaN\n",
       "                          2010 1       NaN\n",
       "...                                    ...\n",
       "log HSize 905012325005802 2012 1       NaN\n",
       "                          2014 1       NaN\n",
       "          905012325005803 2008 1       NaN\n",
       "                          2010 1  0.693147\n",
       "                          2012 1       NaN\n",
       "                          2014 1       NaN\n",
       "          9050123250059   2008 1  1.098612\n",
       "                          2010 1       NaN\n",
       "                          2012 1       NaN\n",
       "                          2014 1       NaN\n",
       "          905012325005901 2008 1       NaN\n",
       "                          2010 1  0.000000\n",
       "                          2012 1       NaN\n",
       "                          2014 1       NaN\n",
       "          905012325005902 2008 1       NaN\n",
       "                          2010 1  2.397895\n",
       "                          2012 1       NaN\n",
       "                          2014 1       NaN\n",
       "          9050123250081   2008 1  1.098612\n",
       "                          2010 1       NaN\n",
       "                          2012 1       NaN\n",
       "                          2014 1       NaN\n",
       "          905012325008101 2008 1       NaN\n",
       "                          2010 1  0.693147\n",
       "                          2012 1       NaN\n",
       "                          2014 1       NaN\n",
       "          905012325008102 2008 1       NaN\n",
       "                          2010 1  0.000000\n",
       "                          2012 1       NaN\n",
       "                          2014 1       NaN\n",
       "\n",
       "[433984 rows x 1 columns]"
      ]
     },
     "execution_count": 28,
     "metadata": {},
     "output_type": "execute_result"
    }
   ],
   "source": [
    "z_actual = r.z.sel(t=2008,m=1,j=\"0002-001\")\n",
    "z_actual.to_dataframe()\n",
    "r.z.to_dataframe()\n"
   ]
  },
  {
   "cell_type": "code",
   "execution_count": 26,
   "metadata": {},
   "outputs": [],
   "source": [
    "def total_cv(U0,p0,p1):\n",
    "    #insert list of households\n",
    "    totalcv= {}\n",
    "    for i in households:\n",
    "        totalcv[i.household_ID] = compensating_variation(U0,p0,p1)\n",
    "    print (totalcv)\n",
    "    return\n",
    "        "
   ]
  },
  {
   "cell_type": "code",
   "execution_count": null,
   "metadata": {},
   "outputs": [],
   "source": []
  },
  {
   "cell_type": "code",
   "execution_count": null,
   "metadata": {},
   "outputs": [],
   "source": []
  }
 ],
 "metadata": {
  "kernelspec": {
   "display_name": "Python 3",
   "language": "python",
   "name": "python3"
  },
  "language_info": {
   "codemirror_mode": {
    "name": "ipython",
    "version": 3
   },
   "file_extension": ".py",
   "mimetype": "text/x-python",
   "name": "python",
   "nbconvert_exporter": "python",
   "pygments_lexer": "ipython3",
   "version": "3.6.7"
  },
  "org": null
 },
 "nbformat": 4,
 "nbformat_minor": 1
}
